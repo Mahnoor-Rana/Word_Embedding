{
 "cells": [
  {
   "cell_type": "code",
   "execution_count": 56,
   "id": "9462467c",
   "metadata": {},
   "outputs": [],
   "source": [
    "import tensorflow as tf\n",
    "from tensorflow import keras\n",
    "from tensorflow.keras.preprocessing.text import one_hot\n",
    "from tensorflow.keras.preprocessing.sequence import pad_sequences\n",
    "import numpy as np"
   ]
  },
  {
   "cell_type": "code",
   "execution_count": 57,
   "id": "60eca33e",
   "metadata": {},
   "outputs": [],
   "source": [
    "reviews = ['nice food',\n",
    "        'amazing restaurant',\n",
    "        'too good',\n",
    "        'just loved it!',\n",
    "        'will go again',\n",
    "        'horrible food',\n",
    "        'never go there',\n",
    "        'poor service',\n",
    "        'poor quality',\n",
    "        'needs improvement']"
   ]
  },
  {
   "cell_type": "code",
   "execution_count": 58,
   "id": "ab177cb1",
   "metadata": {},
   "outputs": [],
   "source": [
    "sentiments = np.array([1,0,1,1,0,1,0,0,0,1])"
   ]
  },
  {
   "cell_type": "markdown",
   "id": "d2a08d96",
   "metadata": {},
   "source": [
    "## Let's do one hot encoding "
   ]
  },
  {
   "cell_type": "code",
   "execution_count": 59,
   "id": "1c8150d5",
   "metadata": {},
   "outputs": [
    {
     "data": {
      "text/plain": [
       "[4, 7]"
      ]
     },
     "execution_count": 59,
     "metadata": {},
     "output_type": "execute_result"
    }
   ],
   "source": [
    "one_hot(\"needs improvement\",20)"
   ]
  },
  {
   "cell_type": "code",
   "execution_count": 60,
   "id": "6936b552",
   "metadata": {},
   "outputs": [
    {
     "name": "stdout",
     "output_type": "stream",
     "text": [
      "[[1, 7], [44, 13], [49, 29], [15, 8, 15], [1, 40, 20], [26, 7], [40, 40, 2], [18, 6], [18, 22], [34, 12]]\n"
     ]
    }
   ],
   "source": [
    "size = 50\n",
    "encoded_rev = [one_hot(d,size) for d in reviews]\n",
    "print(encoded_rev)"
   ]
  },
  {
   "cell_type": "code",
   "execution_count": 61,
   "id": "74bef37b",
   "metadata": {},
   "outputs": [
    {
     "name": "stdout",
     "output_type": "stream",
     "text": [
      "[[ 1  7  0  0]\n",
      " [44 13  0  0]\n",
      " [49 29  0  0]\n",
      " [15  8 15  0]\n",
      " [ 1 40 20  0]\n",
      " [26  7  0  0]\n",
      " [40 40  2  0]\n",
      " [18  6  0  0]\n",
      " [18 22  0  0]\n",
      " [34 12  0  0]]\n"
     ]
    }
   ],
   "source": [
    "max_len = 4\n",
    "padded_rev = pad_sequences(encoded_rev, maxlen = max_len, padding='post')\n",
    "print(padded_rev)"
   ]
  },
  {
   "cell_type": "code",
   "execution_count": 62,
   "id": "ed1329ec",
   "metadata": {},
   "outputs": [],
   "source": [
    "embedd_d_vec = 5\n",
    "model = Sequential()\n",
    "model.add(Embedding(size,embedd_d_vec,input_length=max_len, name = 'embedding'))\n",
    "model.add(Flatten())\n",
    "model.add(Dense(1,activation= 'sigmoid'))"
   ]
  },
  {
   "cell_type": "code",
   "execution_count": 63,
   "id": "383e1990",
   "metadata": {},
   "outputs": [],
   "source": [
    "X = padded_reviews\n",
    "y = sentiments"
   ]
  },
  {
   "cell_type": "code",
   "execution_count": 64,
   "id": "e5e6060e",
   "metadata": {},
   "outputs": [
    {
     "name": "stdout",
     "output_type": "stream",
     "text": [
      "Model: \"sequential_6\"\n",
      "_________________________________________________________________\n",
      " Layer (type)                Output Shape              Param #   \n",
      "=================================================================\n",
      " embedding (Embedding)       (None, 4, 5)              250       \n",
      "                                                                 \n",
      " flatten_5 (Flatten)         (None, 20)                0         \n",
      "                                                                 \n",
      " dense_5 (Dense)             (None, 1)                 21        \n",
      "                                                                 \n",
      "=================================================================\n",
      "Total params: 271\n",
      "Trainable params: 271\n",
      "Non-trainable params: 0\n",
      "_________________________________________________________________\n",
      "None\n"
     ]
    }
   ],
   "source": [
    "model.compile(optimizer='adam', loss='binary_crossentropy', metrics=['accuracy'])\n",
    "print(model.summary())"
   ]
  },
  {
   "cell_type": "code",
   "execution_count": 65,
   "id": "73313181",
   "metadata": {},
   "outputs": [
    {
     "name": "stdout",
     "output_type": "stream",
     "text": [
      "Epoch 1/5\n",
      "1/1 [==============================] - 0s 367ms/step - loss: 0.6975 - accuracy: 0.4000\n",
      "Epoch 2/5\n",
      "1/1 [==============================] - 0s 11ms/step - loss: 0.6962 - accuracy: 0.4000\n",
      "Epoch 3/5\n",
      "1/1 [==============================] - 0s 4ms/step - loss: 0.6950 - accuracy: 0.5000\n",
      "Epoch 4/5\n",
      "1/1 [==============================] - 0s 3ms/step - loss: 0.6937 - accuracy: 0.6000\n",
      "Epoch 5/5\n",
      "1/1 [==============================] - 0s 4ms/step - loss: 0.6925 - accuracy: 0.6000\n"
     ]
    },
    {
     "data": {
      "text/plain": [
       "<keras.callbacks.History at 0x14b2fda7640>"
      ]
     },
     "execution_count": 65,
     "metadata": {},
     "output_type": "execute_result"
    }
   ],
   "source": [
    "model.fit(X,y,epochs = 5)"
   ]
  },
  {
   "cell_type": "code",
   "execution_count": 66,
   "id": "b7971af0",
   "metadata": {},
   "outputs": [
    {
     "name": "stdout",
     "output_type": "stream",
     "text": [
      "1/1 [==============================] - 0s 82ms/step - loss: 0.6912 - accuracy: 0.6000\n"
     ]
    },
    {
     "data": {
      "text/plain": [
       "0.6000000238418579"
      ]
     },
     "execution_count": 66,
     "metadata": {},
     "output_type": "execute_result"
    }
   ],
   "source": [
    "# evaluate the model\n",
    "loss, accuracy = model.evaluate(X, y)\n",
    "accuracy"
   ]
  },
  {
   "cell_type": "code",
   "execution_count": 67,
   "id": "2f0a13b2",
   "metadata": {},
   "outputs": [
    {
     "data": {
      "text/plain": [
       "50"
      ]
     },
     "execution_count": 67,
     "metadata": {},
     "output_type": "execute_result"
    }
   ],
   "source": [
    "weights = model.get_layer('embedding').get_weights()[0]\n",
    "len(weights)"
   ]
  },
  {
   "cell_type": "code",
   "execution_count": 68,
   "id": "58a8cb6a",
   "metadata": {},
   "outputs": [
    {
     "data": {
      "text/plain": [
       "array([ 0.0083785 , -0.01360647,  0.00419767,  0.03186557,  0.0299108 ],\n",
       "      dtype=float32)"
      ]
     },
     "execution_count": 68,
     "metadata": {},
     "output_type": "execute_result"
    }
   ],
   "source": [
    "weights[13]\n"
   ]
  },
  {
   "cell_type": "code",
   "execution_count": 70,
   "id": "e01d85b7",
   "metadata": {},
   "outputs": [
    {
     "data": {
      "text/plain": [
       "array([ 0.04981953, -0.03774847, -0.033667  , -0.00919856,  0.02253211],\n",
       "      dtype=float32)"
      ]
     },
     "execution_count": 70,
     "metadata": {},
     "output_type": "execute_result"
    }
   ],
   "source": [
    "weights[1]\n"
   ]
  }
 ],
 "metadata": {
  "kernelspec": {
   "display_name": "Python 3",
   "language": "python",
   "name": "python3"
  },
  "language_info": {
   "codemirror_mode": {
    "name": "ipython",
    "version": 3
   },
   "file_extension": ".py",
   "mimetype": "text/x-python",
   "name": "python",
   "nbconvert_exporter": "python",
   "pygments_lexer": "ipython3",
   "version": "3.8.8"
  }
 },
 "nbformat": 4,
 "nbformat_minor": 5
}
